{
 "cells": [
  {
   "cell_type": "code",
   "execution_count": 1,
   "metadata": {
    "id": "qmO0SaJqOuvn"
   },
   "outputs": [],
   "source": [
    "%matplotlib inline\n",
    "import numpy as np\n",
    "import matplotlib.pyplot as plt\n",
    "import matplotlib\n",
    "import scipy\n",
    "from datetime import datetime\n",
    "import pandas as pd\n",
    "import matplotlib\n",
    "import matplotlib.pyplot as plt\n",
    "import matplotlib.dates as mdates\n",
    "#from pandas.plotting import register_matplotlib_converters\n",
    "#register_matplotlib_converters()\n",
    "\n",
    "from operator import itemgetter\n",
    "from datetime import datetime\n",
    "from datetime import timezone\n",
    "from dateutil.tz import gettz\n",
    "\n",
    "import urllib.request as request\n",
    "import json\n",
    "import collections\n",
    "import hashlib\n",
    "import hmac\n",
    "import time\n",
    "import pytz\n",
    "\n",
    "# Define some fonts and colors for nice plots\n",
    "colors = {'blue':'#1d7fb8',\n",
    "          'gold': '#e1971b',\n",
    "          'green': '#059567',\n",
    "          'brown': '#d9775a',\n",
    "          'purple':'#ca18de',\n",
    "          'red': '#ac0000'\n",
    "         }\n",
    "\n",
    "plt.rcParams['figure.dpi'] = 150\n",
    "\n",
    "font = {'family' : 'Helvetica',\n",
    "        'weight' : 'normal',\n",
    "        'size'   : 7}\n",
    "matplotlib.rc('font', **font)\n",
    "\n",
    "myFmt = mdates.DateFormatter('%m-%d\\n%H:%M')\n",
    "\n",
    "# Define a function to remove borders from plots\n",
    "def remove_borders(ax, lw=1, l_len=3):\n",
    "    #Hide the right and top spines\n",
    "    ax.spines['right'].set_visible(False)\n",
    "    ax.spines['top'].set_visible(False)\n",
    "\n",
    "    # Only show ticks on the left and bottom spines\n",
    "    ax.yaxis.set_ticks_position('left')\n",
    "    ax.xaxis.set_ticks_position('bottom')\n",
    "    \n",
    "    # Set axis thickness\n",
    "    ax.spines['bottom'].set_linewidth(lw)\n",
    "    ax.spines['left'].set_linewidth(lw)\n",
    "    # ax.spines['left'].set_bounds(0, 12.5)\n",
    "\n",
    "    ax.xaxis.set_tick_params(length=l_len, width=lw)\n",
    "    ax.yaxis.set_tick_params(length=l_len, width=lw)"
   ]
  },
  {
   "cell_type": "code",
   "execution_count": 2,
   "metadata": {
    "id": "HjrkwIhuOuvp"
   },
   "outputs": [],
   "source": [
    "# Download reference temp data\n",
    "\n",
    "# Convert local time PDT to UTC timestamp starting at 0:00 that day\n",
    "# Default value set to \n",
    "def to_timestamp(t=\"2021-4-27\"):\n",
    "    local_time = pytz.timezone(\"America/Los_Angeles\")\n",
    "    naive_datetime = datetime.strptime (t, \"%Y-%m-%d\")\n",
    "    local_datetime = local_time.localize(naive_datetime, is_dst=False)\n",
    "    utc_datetime = local_datetime.astimezone(pytz.utc)\n",
    "    return int(utc_datetime.timestamp())\n"
   ]
  },
  {
   "cell_type": "code",
   "execution_count": 3,
   "metadata": {
    "id": "EGAjqFwNOuvs"
   },
   "outputs": [],
   "source": [
    "# Read in the data\n",
    "with open('bme280_2.csv') as f:\n",
    "    data = f.readlines()[2:]\n",
    "t = []\n",
    "hdc_temp = []\n",
    "hdc_RH = []\n",
    "lux = []\n",
    "bme_temp = []\n",
    "bme_pressure = []\n",
    "bme_RH = []\n",
    "voltage = []\n",
    "#if(len(data[2:10][0].split(','))==6):\n",
    "#    print(data[1:10][0].split(',')[1:])\n",
    "#for row in data[:40]:\n",
    "#    try:\n",
    "#    if(len(row.split(','))!=7):\n",
    "#        print(row.strip())\n",
    "\n",
    "for row in data:\n",
    "    col = row.split(',')\n",
    "    if len(col)==9:\n",
    "        col = col[1:]\n",
    "        col[0] = col[0][1:]\n",
    "    if len(col)==8:\n",
    "        t.append(datetime.strptime(\"2021-%s\"%col[0], \"%Y-%m-%d %H:%M:%S\"))\n",
    "        hdc_temp.append(col[1].split()[0])\n",
    "        hdc_RH.append(col[2].split()[0])\n",
    "        lux.append(col[3].split()[0])\n",
    "        bme_temp.append(col[4].split()[0])\n",
    "        bme_pressure.append(col[5].split()[0])\n",
    "        bme_RH.append(col[6].split()[0])\n",
    "        voltage.append(col[7].split()[0])\n",
    "\n",
    "day3 = pd.DataFrame(\n",
    "        {\"HDC Temp\":pd.to_numeric(hdc_temp, errors='coerce'),\n",
    "         \"HDC RH\":pd.to_numeric(hdc_RH, errors='coerce'),\n",
    "         \"Lux\":pd.to_numeric(lux, errors='coerce'),\n",
    "         \"BME Temp\":pd.to_numeric(bme_temp, errors='coerce'),\n",
    "         \"BME Pressure\":pd.to_numeric(bme_pressure, errors='coerce'),\n",
    "         \"BME RH\":pd.to_numeric(bme_RH, errors='coerce'),\n",
    "         \"Voltage\":pd.to_numeric(voltage, errors='coerce')},\n",
    "         index=t)"
   ]
  },
  {
   "cell_type": "code",
   "execution_count": 7,
   "metadata": {
    "id": "LGV98WSGOuvt",
    "outputId": "a5e2c590-d158-4576-d340-c5887ddc7abd"
   },
   "outputs": [
    {
     "name": "stderr",
     "output_type": "stream",
     "text": [
      "C:\\Users\\t-vikramiyer\\AppData\\Local\\Temp\\ipykernel_13340\\864987070.py:31: UserWarning: The handle <matplotlib.lines.Line2D object at 0x0000018D213C6FA0> has a label of '_child0' which cannot be automatically added to the legend.\n",
      "  plt.legend(handles=[l_hdc1, l_bme1], bbox_to_anchor=(0.35, 1.1, 0.3, 0.2), ncol=3, loc='upper center')\n",
      "C:\\Users\\t-vikramiyer\\AppData\\Local\\Temp\\ipykernel_13340\\864987070.py:31: UserWarning: The handle <matplotlib.lines.Line2D object at 0x0000018D213CA400> has a label of '_child1' which cannot be automatically added to the legend.\n",
      "  plt.legend(handles=[l_hdc1, l_bme1], bbox_to_anchor=(0.35, 1.1, 0.3, 0.2), ncol=3, loc='upper center')\n"
     ]
    },
    {
     "data": {
      "text/plain": [
       "Text(0.5, -0.4583333333333339, 'Time')"
      ]
     },
     "execution_count": 7,
     "metadata": {},
     "output_type": "execute_result"
    },
    {
     "data": {
      "image/png": "[encoded data removed]",
      "text/plain": [
       "<Figure size 900x300 with 1 Axes>"
      ]
     },
     "metadata": {
      "needs_background": "light"
     },
     "output_type": "display_data"
    }
   ],
   "source": [
    "start_date='2021-07-16'\n",
    "\n",
    "# This is selecting a subset of the data to plot and then resampling it to 1 min intervals\n",
    "day3_hdc_temp1 = day3['HDC Temp'][1000:15600].resample('1min').mean()[4:-6]\n",
    "day3_bme_temp1 = day3['BME Temp'][1000:15600].resample('1min').mean()[4:-6]\n",
    "day3_lux1 = day3['Lux'][1000:15600].resample('1min').mean()[4:-6]\n",
    "\n",
    "day3_hdc_temp2 = day3['HDC Temp'][55000:73400].resample('1min').mean()[12:88]\n",
    "day3_bme_temp2 = day3['BME Temp'][55000:73400].resample('1min').mean()[12:88]\n",
    "day3_lux2 = day3['Lux'][55000:73400].resample('1min').mean()[12:88]\n",
    "\n",
    "# Set up and plot the data\n",
    "w,h = plt.figaspect(.3)\n",
    "fig = plt.figure(figsize=(6,2), dpi=150)\n",
    "ax1 = fig.add_subplot(111)\n",
    "\n",
    "l_hdc1, = ax1.plot(day3_hdc_temp1, linewidth=1.5, color=colors['red'], linestyle='-')\n",
    "l_bme1, = ax1.plot(day3_bme_temp1, linewidth=1.5, color=colors['blue'], linestyle='-')\n",
    "l_hdc2, = ax1.plot(day3_hdc_temp2, linewidth=1.5, color=colors['red'], linestyle='-')\n",
    "l_bme2, = ax1.plot(day3_bme_temp2, linewidth=1.5, color=colors['blue'], linestyle='-')\n",
    "#l_hdc_corr1, = ax1.plot(day3_hdc_temp_corrected1.resample('5min').mean(), label=\"HDC2010, corrected\", linewidth=1.5, color=colors['red'], linestyle='--')\n",
    "#l_bme_corr1, = ax1.plot(day3_bme_temp_corrected1.resample('5min').mean(), label=\"BME280, corrected\", linewidth=1.5, color=colors['blue'], linestyle='--')\n",
    "ax1.set_xlim(pd.Timestamp('2021-07-16 16:30:00'), pd.Timestamp('2021-07-17 09:15:00'))\n",
    "\n",
    "myFmt = mdates.DateFormatter('%H:%M')\n",
    "\n",
    "ax1.xaxis.set_major_formatter(myFmt)\n",
    "\n",
    "remove_borders(ax1, lw=1, l_len=4)\n",
    "\n",
    "#plt.grid()\n",
    "plt.yticks(np.arange(10, 32, 2))\n",
    "plt.legend(handles=[l_hdc1, l_bme1], bbox_to_anchor=(0.35, 1.1, 0.3, 0.2), ncol=3, loc='upper center')\n",
    "#ax.legend(loc='upper center', bbox_to_anchor=(0.5, 1.05),\n",
    "          #ncol=3, fancybox=True, shadow=True)\n",
    "plt.tight_layout()\n",
    "#fig.subplots_adjust(hspace=0.001)\n",
    "plt.ylabel(\"Temperature °C\")\n",
    "plt.xlabel(\"Time\")\n",
    "#plt.savefig('subfigs/outdoor_temp.svg', format='svg', dpi=300)"
   ]
  },
  {
   "cell_type": "code",
   "execution_count": 10,
   "metadata": {
    "id": "jzGXjcaTOuv0",
    "outputId": "f2bf75cb-3a9a-4e74-da6c-88f5daf8fe59"
   },
   "outputs": [
    {
     "data": {
      "image/png": "[encoded data removed]",
      "text/plain": [
       "<Figure size 555x300 with 2 Axes>"
      ]
     },
     "metadata": {
      "needs_background": "light"
     },
     "output_type": "display_data"
    }
   ],
   "source": [
    "day3_lux1 = day3['Lux'][1000:15600].resample('1min').mean()[4:-6].resample('15min', label='right').mean()/1000\n",
    "#sun1 = ref_temp['solar_rad_avg'][start_date:][16*4+3:20*4+3]\n",
    "\n",
    "day3_lux2 = day3['Lux'][55000:73400].resample('1min').mean()[12:88].resample('15min', label='right').mean()/1000\n",
    "#sun2 = ref_temp['solar_rad_avg'][start_date:][32*4:33*4+2]\n",
    "\n",
    "# Plot temperature\n",
    "fig = plt.figure(figsize=(3.7,2))\n",
    "ax1 = fig.add_subplot(111)\n",
    "ax2 = ax1.twinx()\n",
    "#l_sun_ref1, = ax2.plot(sun1, label=\"Reference\", linewidth=1.5, color='k')\n",
    "#l_sun_ref2, = ax2.plot(sun2, label=\"Reference\", linewidth=1.5, color='k')\n",
    "\n",
    "\n",
    "l_lux, = ax1.plot(day3_lux1, label=\"Lux\", linewidth=1.5, color=colors['green'])\n",
    "l_lux, = ax1.plot(day3_lux2, label=\"Lux\", linewidth=1.5, color=colors['green'])\n",
    "\n",
    "ax1.set_ylabel(\"Illuminance (kLux)\")\n",
    "ax1.set_xlabel(\"Time\")\n",
    "ax1.set_ylim(0,20)\n",
    "ax2.set_ylim(0,175)\n",
    "\n",
    "ax1.xaxis.set_major_formatter(myFmt)\n",
    "ax1.set_xlim(pd.Timestamp('2021-07-16 16:30:00'), pd.Timestamp('2021-07-16 20:30:00'))\n",
    "#ax1.set_xlim(pd.Timestamp('2021-07-16 16:30:00'), pd.Timestamp('2021-07-17 09:15:00'))\n",
    "\n",
    "ax2.set_ylabel(\"Solar Radiation W/m²\")\n",
    "ax1.spines['top'].set_visible(False)\n",
    "ax2.spines['top'].set_visible(False)\n",
    "ax1.xaxis.set_tick_params(length=4, width=1)\n",
    "ax1.yaxis.set_tick_params(length=4, width=1)\n",
    "ax2.xaxis.set_tick_params(length=4, width=1)\n",
    "ax2.yaxis.set_tick_params(length=4, width=1)\n",
    "ax1.spines['bottom'].set_linewidth(1)\n",
    "ax1.spines['left'].set_linewidth(1)\n",
    "ax2.spines['right'].set_linewidth(1)\n",
    "#plt.grid()\n",
    "plt.legend(handles=[l_lux,], bbox_to_anchor=(0.35, 1.1, 0.3, 0.2), ncol=2, loc='upper center')\n",
    "myFmt = mdates.DateFormatter('%H:%M')\n",
    "ax1.xaxis.set_major_formatter(myFmt)\n",
    "#plt.savefig('subfigs/outdoor_solar_lux.svg', format='svg', dpi=300)"
   ]
  },
  {
   "cell_type": "code",
   "execution_count": null,
   "metadata": {
    "collapsed": true,
    "id": "sgcJNpxKOuv4"
   },
   "outputs": [],
   "source": []
  }
 ],
 "metadata": {
  "colab": {
   "name": "sensor_tests2.ipynb",
   "provenance": []
  },
  "kernelspec": {
   "display_name": "Python 3 (ipykernel)",
   "language": "python",
   "name": "python3"
  },
  "language_info": {
   "codemirror_mode": {
    "name": "ipython",
    "version": 3
   },
   "file_extension": ".py",
   "mimetype": "text/x-python",
   "name": "python",
   "nbconvert_exporter": "python",
   "pygments_lexer": "ipython3",
   "version": "3.9.12"
  }
 },
 "nbformat": 4,
 "nbformat_minor": 1
}
